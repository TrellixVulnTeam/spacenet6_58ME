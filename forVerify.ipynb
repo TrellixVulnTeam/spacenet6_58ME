{
 "cells": [
  {
   "cell_type": "code",
   "execution_count": 1,
   "metadata": {},
   "outputs": [],
   "source": [
    "import numpy as np\n",
    "from glob import  glob\n",
    "import os\n",
    "import os.path as osp\n",
    "import torch"
   ]
  },
  {
   "cell_type": "code",
   "execution_count": 5,
   "metadata": {},
   "outputs": [],
   "source": [
    "a_path = r'pretrain/deit_small_patch16_224-cd65a155.pth'\n",
    "a = torch.load(a_path)"
   ]
  },
  {
   "cell_type": "code",
   "execution_count": 6,
   "metadata": {},
   "outputs": [
    {
     "data": {
      "text/plain": [
       "odict_keys(['cls_token', 'pos_embed', 'patch_embed.projection.weight', 'patch_embed.projection.bias', 'layers.0.ln1.weight', 'layers.0.ln1.bias', 'layers.0.attn.attn.in_proj_weight', 'layers.0.attn.attn.in_proj_bias', 'layers.0.attn.attn.out_proj.weight', 'layers.0.attn.attn.out_proj.bias', 'layers.0.ln2.weight', 'layers.0.ln2.bias', 'layers.0.ffn.layers.0.0.weight', 'layers.0.ffn.layers.0.0.bias', 'layers.0.ffn.layers.1.weight', 'layers.0.ffn.layers.1.bias', 'layers.1.ln1.weight', 'layers.1.ln1.bias', 'layers.1.attn.attn.in_proj_weight', 'layers.1.attn.attn.in_proj_bias', 'layers.1.attn.attn.out_proj.weight', 'layers.1.attn.attn.out_proj.bias', 'layers.1.ln2.weight', 'layers.1.ln2.bias', 'layers.1.ffn.layers.0.0.weight', 'layers.1.ffn.layers.0.0.bias', 'layers.1.ffn.layers.1.weight', 'layers.1.ffn.layers.1.bias', 'layers.2.ln1.weight', 'layers.2.ln1.bias', 'layers.2.attn.attn.in_proj_weight', 'layers.2.attn.attn.in_proj_bias', 'layers.2.attn.attn.out_proj.weight', 'layers.2.attn.attn.out_proj.bias', 'layers.2.ln2.weight', 'layers.2.ln2.bias', 'layers.2.ffn.layers.0.0.weight', 'layers.2.ffn.layers.0.0.bias', 'layers.2.ffn.layers.1.weight', 'layers.2.ffn.layers.1.bias', 'layers.3.ln1.weight', 'layers.3.ln1.bias', 'layers.3.attn.attn.in_proj_weight', 'layers.3.attn.attn.in_proj_bias', 'layers.3.attn.attn.out_proj.weight', 'layers.3.attn.attn.out_proj.bias', 'layers.3.ln2.weight', 'layers.3.ln2.bias', 'layers.3.ffn.layers.0.0.weight', 'layers.3.ffn.layers.0.0.bias', 'layers.3.ffn.layers.1.weight', 'layers.3.ffn.layers.1.bias', 'layers.4.ln1.weight', 'layers.4.ln1.bias', 'layers.4.attn.attn.in_proj_weight', 'layers.4.attn.attn.in_proj_bias', 'layers.4.attn.attn.out_proj.weight', 'layers.4.attn.attn.out_proj.bias', 'layers.4.ln2.weight', 'layers.4.ln2.bias', 'layers.4.ffn.layers.0.0.weight', 'layers.4.ffn.layers.0.0.bias', 'layers.4.ffn.layers.1.weight', 'layers.4.ffn.layers.1.bias', 'layers.5.ln1.weight', 'layers.5.ln1.bias', 'layers.5.attn.attn.in_proj_weight', 'layers.5.attn.attn.in_proj_bias', 'layers.5.attn.attn.out_proj.weight', 'layers.5.attn.attn.out_proj.bias', 'layers.5.ln2.weight', 'layers.5.ln2.bias', 'layers.5.ffn.layers.0.0.weight', 'layers.5.ffn.layers.0.0.bias', 'layers.5.ffn.layers.1.weight', 'layers.5.ffn.layers.1.bias', 'layers.6.ln1.weight', 'layers.6.ln1.bias', 'layers.6.attn.attn.in_proj_weight', 'layers.6.attn.attn.in_proj_bias', 'layers.6.attn.attn.out_proj.weight', 'layers.6.attn.attn.out_proj.bias', 'layers.6.ln2.weight', 'layers.6.ln2.bias', 'layers.6.ffn.layers.0.0.weight', 'layers.6.ffn.layers.0.0.bias', 'layers.6.ffn.layers.1.weight', 'layers.6.ffn.layers.1.bias', 'layers.7.ln1.weight', 'layers.7.ln1.bias', 'layers.7.attn.attn.in_proj_weight', 'layers.7.attn.attn.in_proj_bias', 'layers.7.attn.attn.out_proj.weight', 'layers.7.attn.attn.out_proj.bias', 'layers.7.ln2.weight', 'layers.7.ln2.bias', 'layers.7.ffn.layers.0.0.weight', 'layers.7.ffn.layers.0.0.bias', 'layers.7.ffn.layers.1.weight', 'layers.7.ffn.layers.1.bias', 'layers.8.ln1.weight', 'layers.8.ln1.bias', 'layers.8.attn.attn.in_proj_weight', 'layers.8.attn.attn.in_proj_bias', 'layers.8.attn.attn.out_proj.weight', 'layers.8.attn.attn.out_proj.bias', 'layers.8.ln2.weight', 'layers.8.ln2.bias', 'layers.8.ffn.layers.0.0.weight', 'layers.8.ffn.layers.0.0.bias', 'layers.8.ffn.layers.1.weight', 'layers.8.ffn.layers.1.bias', 'layers.9.ln1.weight', 'layers.9.ln1.bias', 'layers.9.attn.attn.in_proj_weight', 'layers.9.attn.attn.in_proj_bias', 'layers.9.attn.attn.out_proj.weight', 'layers.9.attn.attn.out_proj.bias', 'layers.9.ln2.weight', 'layers.9.ln2.bias', 'layers.9.ffn.layers.0.0.weight', 'layers.9.ffn.layers.0.0.bias', 'layers.9.ffn.layers.1.weight', 'layers.9.ffn.layers.1.bias', 'layers.10.ln1.weight', 'layers.10.ln1.bias', 'layers.10.attn.attn.in_proj_weight', 'layers.10.attn.attn.in_proj_bias', 'layers.10.attn.attn.out_proj.weight', 'layers.10.attn.attn.out_proj.bias', 'layers.10.ln2.weight', 'layers.10.ln2.bias', 'layers.10.ffn.layers.0.0.weight', 'layers.10.ffn.layers.0.0.bias', 'layers.10.ffn.layers.1.weight', 'layers.10.ffn.layers.1.bias', 'layers.11.ln1.weight', 'layers.11.ln1.bias', 'layers.11.attn.attn.in_proj_weight', 'layers.11.attn.attn.in_proj_bias', 'layers.11.attn.attn.out_proj.weight', 'layers.11.attn.attn.out_proj.bias', 'layers.11.ln2.weight', 'layers.11.ln2.bias', 'layers.11.ffn.layers.0.0.weight', 'layers.11.ffn.layers.0.0.bias', 'layers.11.ffn.layers.1.weight', 'layers.11.ffn.layers.1.bias', 'ln1.weight', 'ln1.bias'])"
      ]
     },
     "execution_count": 6,
     "metadata": {},
     "output_type": "execute_result"
    }
   ],
   "source": [
    "a.keys()"
   ]
  }
 ],
 "metadata": {
  "interpreter": {
   "hash": "bdf8307b29b89eff999faf6b0f79cf9c017f3dc27242fd013056260cfe8898bc"
  },
  "kernelspec": {
   "display_name": "Python 3.7.11 64-bit ('sn6': conda)",
   "name": "python3"
  },
  "language_info": {
   "codemirror_mode": {
    "name": "ipython",
    "version": 3
   },
   "file_extension": ".py",
   "mimetype": "text/x-python",
   "name": "python",
   "nbconvert_exporter": "python",
   "pygments_lexer": "ipython3",
   "version": "3.7.11"
  },
  "orig_nbformat": 4
 },
 "nbformat": 4,
 "nbformat_minor": 2
}
