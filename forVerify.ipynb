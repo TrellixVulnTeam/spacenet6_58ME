{
 "cells": [
  {
   "cell_type": "code",
   "execution_count": 34,
   "metadata": {},
   "outputs": [],
   "source": [
    "import numpy as np\n",
    "from glob import  glob\n",
    "import os\n",
    "import os.path as osp\n",
    "import torch\n",
    "from tools.model_converters.vit2mmseg import convert_vit"
   ]
  },
  {
   "cell_type": "code",
   "execution_count": 61,
   "metadata": {},
   "outputs": [],
   "source": [
    "a_path = r'pretrain/vit_base_patch16_224.pth'\n",
    "a = torch.load(a_path, map_location='cpu')"
   ]
  },
  {
   "cell_type": "code",
   "execution_count": null,
   "metadata": {},
   "outputs": [],
   "source": [
    "d_path = r'pretrain/checkpoint-879_mmseg.pth'\n",
    "d = torch.load(d_path, map_location='cpu')"
   ]
  },
  {
   "cell_type": "code",
   "execution_count": 62,
   "metadata": {},
   "outputs": [],
   "source": [
    "b_path = r'pretrain/checkpoint-879.pth'\n",
    "b = torch.load(b_path, map_location='cpu')['model']"
   ]
  },
  {
   "cell_type": "code",
   "execution_count": 63,
   "metadata": {},
   "outputs": [
    {
     "data": {
      "text/plain": [
       "odict_keys(['cls_token', 'ln1.bias', 'ln1.weight', 'layers.0.ln1.bias', 'layers.0.ln1.weight', 'layers.0.ln2.bias', 'layers.0.ln2.weight', 'layers.0.ffn.layers.0.0.bias', 'layers.0.ffn.layers.0.0.weight', 'layers.0.ffn.layers.1.bias', 'layers.0.ffn.layers.1.weight', 'layers.0.attn.attn.out_proj.bias', 'layers.0.attn.attn.out_proj.weight', 'layers.0.attn.attn.in_proj_bias', 'layers.0.attn.attn.in_proj_weight', 'layers.1.ln1.bias', 'layers.1.ln1.weight', 'layers.1.ln2.bias', 'layers.1.ln2.weight', 'layers.1.ffn.layers.0.0.bias', 'layers.1.ffn.layers.0.0.weight', 'layers.1.ffn.layers.1.bias', 'layers.1.ffn.layers.1.weight', 'layers.1.attn.attn.out_proj.bias', 'layers.1.attn.attn.out_proj.weight', 'layers.1.attn.attn.in_proj_bias', 'layers.1.attn.attn.in_proj_weight', 'layers.10.ln1.bias', 'layers.10.ln1.weight', 'layers.10.ln2.bias', 'layers.10.ln2.weight', 'layers.10.ffn.layers.0.0.bias', 'layers.10.ffn.layers.0.0.weight', 'layers.10.ffn.layers.1.bias', 'layers.10.ffn.layers.1.weight', 'layers.10.attn.attn.out_proj.bias', 'layers.10.attn.attn.out_proj.weight', 'layers.10.attn.attn.in_proj_bias', 'layers.10.attn.attn.in_proj_weight', 'layers.11.ln1.bias', 'layers.11.ln1.weight', 'layers.11.ln2.bias', 'layers.11.ln2.weight', 'layers.11.ffn.layers.0.0.bias', 'layers.11.ffn.layers.0.0.weight', 'layers.11.ffn.layers.1.bias', 'layers.11.ffn.layers.1.weight', 'layers.11.attn.attn.out_proj.bias', 'layers.11.attn.attn.out_proj.weight', 'layers.11.attn.attn.in_proj_bias', 'layers.11.attn.attn.in_proj_weight', 'layers.2.ln1.bias', 'layers.2.ln1.weight', 'layers.2.ln2.bias', 'layers.2.ln2.weight', 'layers.2.ffn.layers.0.0.bias', 'layers.2.ffn.layers.0.0.weight', 'layers.2.ffn.layers.1.bias', 'layers.2.ffn.layers.1.weight', 'layers.2.attn.attn.out_proj.bias', 'layers.2.attn.attn.out_proj.weight', 'layers.2.attn.attn.in_proj_bias', 'layers.2.attn.attn.in_proj_weight', 'layers.3.ln1.bias', 'layers.3.ln1.weight', 'layers.3.ln2.bias', 'layers.3.ln2.weight', 'layers.3.ffn.layers.0.0.bias', 'layers.3.ffn.layers.0.0.weight', 'layers.3.ffn.layers.1.bias', 'layers.3.ffn.layers.1.weight', 'layers.3.attn.attn.out_proj.bias', 'layers.3.attn.attn.out_proj.weight', 'layers.3.attn.attn.in_proj_bias', 'layers.3.attn.attn.in_proj_weight', 'layers.4.ln1.bias', 'layers.4.ln1.weight', 'layers.4.ln2.bias', 'layers.4.ln2.weight', 'layers.4.ffn.layers.0.0.bias', 'layers.4.ffn.layers.0.0.weight', 'layers.4.ffn.layers.1.bias', 'layers.4.ffn.layers.1.weight', 'layers.4.attn.attn.out_proj.bias', 'layers.4.attn.attn.out_proj.weight', 'layers.4.attn.attn.in_proj_bias', 'layers.4.attn.attn.in_proj_weight', 'layers.5.ln1.bias', 'layers.5.ln1.weight', 'layers.5.ln2.bias', 'layers.5.ln2.weight', 'layers.5.ffn.layers.0.0.bias', 'layers.5.ffn.layers.0.0.weight', 'layers.5.ffn.layers.1.bias', 'layers.5.ffn.layers.1.weight', 'layers.5.attn.attn.out_proj.bias', 'layers.5.attn.attn.out_proj.weight', 'layers.5.attn.attn.in_proj_bias', 'layers.5.attn.attn.in_proj_weight', 'layers.6.ln1.bias', 'layers.6.ln1.weight', 'layers.6.ln2.bias', 'layers.6.ln2.weight', 'layers.6.ffn.layers.0.0.bias', 'layers.6.ffn.layers.0.0.weight', 'layers.6.ffn.layers.1.bias', 'layers.6.ffn.layers.1.weight', 'layers.6.attn.attn.out_proj.bias', 'layers.6.attn.attn.out_proj.weight', 'layers.6.attn.attn.in_proj_bias', 'layers.6.attn.attn.in_proj_weight', 'layers.7.ln1.bias', 'layers.7.ln1.weight', 'layers.7.ln2.bias', 'layers.7.ln2.weight', 'layers.7.ffn.layers.0.0.bias', 'layers.7.ffn.layers.0.0.weight', 'layers.7.ffn.layers.1.bias', 'layers.7.ffn.layers.1.weight', 'layers.7.attn.attn.out_proj.bias', 'layers.7.attn.attn.out_proj.weight', 'layers.7.attn.attn.in_proj_bias', 'layers.7.attn.attn.in_proj_weight', 'layers.8.ln1.bias', 'layers.8.ln1.weight', 'layers.8.ln2.bias', 'layers.8.ln2.weight', 'layers.8.ffn.layers.0.0.bias', 'layers.8.ffn.layers.0.0.weight', 'layers.8.ffn.layers.1.bias', 'layers.8.ffn.layers.1.weight', 'layers.8.attn.attn.out_proj.bias', 'layers.8.attn.attn.out_proj.weight', 'layers.8.attn.attn.in_proj_bias', 'layers.8.attn.attn.in_proj_weight', 'layers.9.ln1.bias', 'layers.9.ln1.weight', 'layers.9.ln2.bias', 'layers.9.ln2.weight', 'layers.9.ffn.layers.0.0.bias', 'layers.9.ffn.layers.0.0.weight', 'layers.9.ffn.layers.1.bias', 'layers.9.ffn.layers.1.weight', 'layers.9.attn.attn.out_proj.bias', 'layers.9.attn.attn.out_proj.weight', 'layers.9.attn.attn.in_proj_bias', 'layers.9.attn.attn.in_proj_weight', 'pos_embed', 'patch_embed.projection.bias', 'patch_embed.projection.weight'])"
      ]
     },
     "execution_count": 63,
     "metadata": {},
     "output_type": "execute_result"
    }
   ],
   "source": [
    "a.keys()"
   ]
  },
  {
   "cell_type": "code",
   "execution_count": 64,
   "metadata": {},
   "outputs": [
    {
     "data": {
      "text/plain": [
       "odict_keys(['mask_token', 'encoder.patch_embed.proj.weight', 'encoder.patch_embed.proj.bias', 'encoder.blocks.0.norm1.weight', 'encoder.blocks.0.norm1.bias', 'encoder.blocks.0.attn.q_bias', 'encoder.blocks.0.attn.v_bias', 'encoder.blocks.0.attn.qkv.weight', 'encoder.blocks.0.attn.proj.weight', 'encoder.blocks.0.attn.proj.bias', 'encoder.blocks.0.norm2.weight', 'encoder.blocks.0.norm2.bias', 'encoder.blocks.0.mlp.fc1.weight', 'encoder.blocks.0.mlp.fc1.bias', 'encoder.blocks.0.mlp.fc2.weight', 'encoder.blocks.0.mlp.fc2.bias', 'encoder.blocks.1.norm1.weight', 'encoder.blocks.1.norm1.bias', 'encoder.blocks.1.attn.q_bias', 'encoder.blocks.1.attn.v_bias', 'encoder.blocks.1.attn.qkv.weight', 'encoder.blocks.1.attn.proj.weight', 'encoder.blocks.1.attn.proj.bias', 'encoder.blocks.1.norm2.weight', 'encoder.blocks.1.norm2.bias', 'encoder.blocks.1.mlp.fc1.weight', 'encoder.blocks.1.mlp.fc1.bias', 'encoder.blocks.1.mlp.fc2.weight', 'encoder.blocks.1.mlp.fc2.bias', 'encoder.blocks.2.norm1.weight', 'encoder.blocks.2.norm1.bias', 'encoder.blocks.2.attn.q_bias', 'encoder.blocks.2.attn.v_bias', 'encoder.blocks.2.attn.qkv.weight', 'encoder.blocks.2.attn.proj.weight', 'encoder.blocks.2.attn.proj.bias', 'encoder.blocks.2.norm2.weight', 'encoder.blocks.2.norm2.bias', 'encoder.blocks.2.mlp.fc1.weight', 'encoder.blocks.2.mlp.fc1.bias', 'encoder.blocks.2.mlp.fc2.weight', 'encoder.blocks.2.mlp.fc2.bias', 'encoder.blocks.3.norm1.weight', 'encoder.blocks.3.norm1.bias', 'encoder.blocks.3.attn.q_bias', 'encoder.blocks.3.attn.v_bias', 'encoder.blocks.3.attn.qkv.weight', 'encoder.blocks.3.attn.proj.weight', 'encoder.blocks.3.attn.proj.bias', 'encoder.blocks.3.norm2.weight', 'encoder.blocks.3.norm2.bias', 'encoder.blocks.3.mlp.fc1.weight', 'encoder.blocks.3.mlp.fc1.bias', 'encoder.blocks.3.mlp.fc2.weight', 'encoder.blocks.3.mlp.fc2.bias', 'encoder.blocks.4.norm1.weight', 'encoder.blocks.4.norm1.bias', 'encoder.blocks.4.attn.q_bias', 'encoder.blocks.4.attn.v_bias', 'encoder.blocks.4.attn.qkv.weight', 'encoder.blocks.4.attn.proj.weight', 'encoder.blocks.4.attn.proj.bias', 'encoder.blocks.4.norm2.weight', 'encoder.blocks.4.norm2.bias', 'encoder.blocks.4.mlp.fc1.weight', 'encoder.blocks.4.mlp.fc1.bias', 'encoder.blocks.4.mlp.fc2.weight', 'encoder.blocks.4.mlp.fc2.bias', 'encoder.blocks.5.norm1.weight', 'encoder.blocks.5.norm1.bias', 'encoder.blocks.5.attn.q_bias', 'encoder.blocks.5.attn.v_bias', 'encoder.blocks.5.attn.qkv.weight', 'encoder.blocks.5.attn.proj.weight', 'encoder.blocks.5.attn.proj.bias', 'encoder.blocks.5.norm2.weight', 'encoder.blocks.5.norm2.bias', 'encoder.blocks.5.mlp.fc1.weight', 'encoder.blocks.5.mlp.fc1.bias', 'encoder.blocks.5.mlp.fc2.weight', 'encoder.blocks.5.mlp.fc2.bias', 'encoder.blocks.6.norm1.weight', 'encoder.blocks.6.norm1.bias', 'encoder.blocks.6.attn.q_bias', 'encoder.blocks.6.attn.v_bias', 'encoder.blocks.6.attn.qkv.weight', 'encoder.blocks.6.attn.proj.weight', 'encoder.blocks.6.attn.proj.bias', 'encoder.blocks.6.norm2.weight', 'encoder.blocks.6.norm2.bias', 'encoder.blocks.6.mlp.fc1.weight', 'encoder.blocks.6.mlp.fc1.bias', 'encoder.blocks.6.mlp.fc2.weight', 'encoder.blocks.6.mlp.fc2.bias', 'encoder.blocks.7.norm1.weight', 'encoder.blocks.7.norm1.bias', 'encoder.blocks.7.attn.q_bias', 'encoder.blocks.7.attn.v_bias', 'encoder.blocks.7.attn.qkv.weight', 'encoder.blocks.7.attn.proj.weight', 'encoder.blocks.7.attn.proj.bias', 'encoder.blocks.7.norm2.weight', 'encoder.blocks.7.norm2.bias', 'encoder.blocks.7.mlp.fc1.weight', 'encoder.blocks.7.mlp.fc1.bias', 'encoder.blocks.7.mlp.fc2.weight', 'encoder.blocks.7.mlp.fc2.bias', 'encoder.blocks.8.norm1.weight', 'encoder.blocks.8.norm1.bias', 'encoder.blocks.8.attn.q_bias', 'encoder.blocks.8.attn.v_bias', 'encoder.blocks.8.attn.qkv.weight', 'encoder.blocks.8.attn.proj.weight', 'encoder.blocks.8.attn.proj.bias', 'encoder.blocks.8.norm2.weight', 'encoder.blocks.8.norm2.bias', 'encoder.blocks.8.mlp.fc1.weight', 'encoder.blocks.8.mlp.fc1.bias', 'encoder.blocks.8.mlp.fc2.weight', 'encoder.blocks.8.mlp.fc2.bias', 'encoder.blocks.9.norm1.weight', 'encoder.blocks.9.norm1.bias', 'encoder.blocks.9.attn.q_bias', 'encoder.blocks.9.attn.v_bias', 'encoder.blocks.9.attn.qkv.weight', 'encoder.blocks.9.attn.proj.weight', 'encoder.blocks.9.attn.proj.bias', 'encoder.blocks.9.norm2.weight', 'encoder.blocks.9.norm2.bias', 'encoder.blocks.9.mlp.fc1.weight', 'encoder.blocks.9.mlp.fc1.bias', 'encoder.blocks.9.mlp.fc2.weight', 'encoder.blocks.9.mlp.fc2.bias', 'encoder.blocks.10.norm1.weight', 'encoder.blocks.10.norm1.bias', 'encoder.blocks.10.attn.q_bias', 'encoder.blocks.10.attn.v_bias', 'encoder.blocks.10.attn.qkv.weight', 'encoder.blocks.10.attn.proj.weight', 'encoder.blocks.10.attn.proj.bias', 'encoder.blocks.10.norm2.weight', 'encoder.blocks.10.norm2.bias', 'encoder.blocks.10.mlp.fc1.weight', 'encoder.blocks.10.mlp.fc1.bias', 'encoder.blocks.10.mlp.fc2.weight', 'encoder.blocks.10.mlp.fc2.bias', 'encoder.blocks.11.norm1.weight', 'encoder.blocks.11.norm1.bias', 'encoder.blocks.11.attn.q_bias', 'encoder.blocks.11.attn.v_bias', 'encoder.blocks.11.attn.qkv.weight', 'encoder.blocks.11.attn.proj.weight', 'encoder.blocks.11.attn.proj.bias', 'encoder.blocks.11.norm2.weight', 'encoder.blocks.11.norm2.bias', 'encoder.blocks.11.mlp.fc1.weight', 'encoder.blocks.11.mlp.fc1.bias', 'encoder.blocks.11.mlp.fc2.weight', 'encoder.blocks.11.mlp.fc2.bias', 'encoder.norm.weight', 'encoder.norm.bias', 'decoder.blocks.0.norm1.weight', 'decoder.blocks.0.norm1.bias', 'decoder.blocks.0.attn.q_bias', 'decoder.blocks.0.attn.v_bias', 'decoder.blocks.0.attn.qkv.weight', 'decoder.blocks.0.attn.proj.weight', 'decoder.blocks.0.attn.proj.bias', 'decoder.blocks.0.norm2.weight', 'decoder.blocks.0.norm2.bias', 'decoder.blocks.0.mlp.fc1.weight', 'decoder.blocks.0.mlp.fc1.bias', 'decoder.blocks.0.mlp.fc2.weight', 'decoder.blocks.0.mlp.fc2.bias', 'decoder.blocks.1.norm1.weight', 'decoder.blocks.1.norm1.bias', 'decoder.blocks.1.attn.q_bias', 'decoder.blocks.1.attn.v_bias', 'decoder.blocks.1.attn.qkv.weight', 'decoder.blocks.1.attn.proj.weight', 'decoder.blocks.1.attn.proj.bias', 'decoder.blocks.1.norm2.weight', 'decoder.blocks.1.norm2.bias', 'decoder.blocks.1.mlp.fc1.weight', 'decoder.blocks.1.mlp.fc1.bias', 'decoder.blocks.1.mlp.fc2.weight', 'decoder.blocks.1.mlp.fc2.bias', 'decoder.blocks.2.norm1.weight', 'decoder.blocks.2.norm1.bias', 'decoder.blocks.2.attn.q_bias', 'decoder.blocks.2.attn.v_bias', 'decoder.blocks.2.attn.qkv.weight', 'decoder.blocks.2.attn.proj.weight', 'decoder.blocks.2.attn.proj.bias', 'decoder.blocks.2.norm2.weight', 'decoder.blocks.2.norm2.bias', 'decoder.blocks.2.mlp.fc1.weight', 'decoder.blocks.2.mlp.fc1.bias', 'decoder.blocks.2.mlp.fc2.weight', 'decoder.blocks.2.mlp.fc2.bias', 'decoder.blocks.3.norm1.weight', 'decoder.blocks.3.norm1.bias', 'decoder.blocks.3.attn.q_bias', 'decoder.blocks.3.attn.v_bias', 'decoder.blocks.3.attn.qkv.weight', 'decoder.blocks.3.attn.proj.weight', 'decoder.blocks.3.attn.proj.bias', 'decoder.blocks.3.norm2.weight', 'decoder.blocks.3.norm2.bias', 'decoder.blocks.3.mlp.fc1.weight', 'decoder.blocks.3.mlp.fc1.bias', 'decoder.blocks.3.mlp.fc2.weight', 'decoder.blocks.3.mlp.fc2.bias', 'decoder.norm.weight', 'decoder.norm.bias', 'decoder.head.weight', 'decoder.head.bias', 'encoder_to_decoder.weight'])"
      ]
     },
     "execution_count": 64,
     "metadata": {},
     "output_type": "execute_result"
    }
   ],
   "source": [
    "b.keys()"
   ]
  },
  {
   "cell_type": "code",
   "execution_count": 65,
   "metadata": {},
   "outputs": [
    {
     "name": "stdout",
     "output_type": "stream",
     "text": [
      "dict_keys(['patch_embed.proj.weight', 'patch_embed.proj.bias', 'blocks.0.norm1.weight', 'blocks.0.norm1.bias', 'blocks.0.attn.q_bias', 'blocks.0.attn.v_bias', 'blocks.0.attn.qkv.weight', 'blocks.0.attn.proj.weight', 'blocks.0.attn.proj.bias', 'blocks.0.norm2.weight', 'blocks.0.norm2.bias', 'blocks.0.mlp.fc1.weight', 'blocks.0.mlp.fc1.bias', 'blocks.0.mlp.fc2.weight', 'blocks.0.mlp.fc2.bias', 'blocks.1.norm1.weight', 'blocks.1.norm1.bias', 'blocks.1.attn.q_bias', 'blocks.1.attn.v_bias', 'blocks.1.attn.qkv.weight', 'blocks.1.attn.proj.weight', 'blocks.1.attn.proj.bias', 'blocks.1.norm2.weight', 'blocks.1.norm2.bias', 'blocks.1.mlp.fc1.weight', 'blocks.1.mlp.fc1.bias', 'blocks.1.mlp.fc2.weight', 'blocks.1.mlp.fc2.bias', 'blocks.2.norm1.weight', 'blocks.2.norm1.bias', 'blocks.2.attn.q_bias', 'blocks.2.attn.v_bias', 'blocks.2.attn.qkv.weight', 'blocks.2.attn.proj.weight', 'blocks.2.attn.proj.bias', 'blocks.2.norm2.weight', 'blocks.2.norm2.bias', 'blocks.2.mlp.fc1.weight', 'blocks.2.mlp.fc1.bias', 'blocks.2.mlp.fc2.weight', 'blocks.2.mlp.fc2.bias', 'blocks.3.norm1.weight', 'blocks.3.norm1.bias', 'blocks.3.attn.q_bias', 'blocks.3.attn.v_bias', 'blocks.3.attn.qkv.weight', 'blocks.3.attn.proj.weight', 'blocks.3.attn.proj.bias', 'blocks.3.norm2.weight', 'blocks.3.norm2.bias', 'blocks.3.mlp.fc1.weight', 'blocks.3.mlp.fc1.bias', 'blocks.3.mlp.fc2.weight', 'blocks.3.mlp.fc2.bias', 'blocks.4.norm1.weight', 'blocks.4.norm1.bias', 'blocks.4.attn.q_bias', 'blocks.4.attn.v_bias', 'blocks.4.attn.qkv.weight', 'blocks.4.attn.proj.weight', 'blocks.4.attn.proj.bias', 'blocks.4.norm2.weight', 'blocks.4.norm2.bias', 'blocks.4.mlp.fc1.weight', 'blocks.4.mlp.fc1.bias', 'blocks.4.mlp.fc2.weight', 'blocks.4.mlp.fc2.bias', 'blocks.5.norm1.weight', 'blocks.5.norm1.bias', 'blocks.5.attn.q_bias', 'blocks.5.attn.v_bias', 'blocks.5.attn.qkv.weight', 'blocks.5.attn.proj.weight', 'blocks.5.attn.proj.bias', 'blocks.5.norm2.weight', 'blocks.5.norm2.bias', 'blocks.5.mlp.fc1.weight', 'blocks.5.mlp.fc1.bias', 'blocks.5.mlp.fc2.weight', 'blocks.5.mlp.fc2.bias', 'blocks.6.norm1.weight', 'blocks.6.norm1.bias', 'blocks.6.attn.q_bias', 'blocks.6.attn.v_bias', 'blocks.6.attn.qkv.weight', 'blocks.6.attn.proj.weight', 'blocks.6.attn.proj.bias', 'blocks.6.norm2.weight', 'blocks.6.norm2.bias', 'blocks.6.mlp.fc1.weight', 'blocks.6.mlp.fc1.bias', 'blocks.6.mlp.fc2.weight', 'blocks.6.mlp.fc2.bias', 'blocks.7.norm1.weight', 'blocks.7.norm1.bias', 'blocks.7.attn.q_bias', 'blocks.7.attn.v_bias', 'blocks.7.attn.qkv.weight', 'blocks.7.attn.proj.weight', 'blocks.7.attn.proj.bias', 'blocks.7.norm2.weight', 'blocks.7.norm2.bias', 'blocks.7.mlp.fc1.weight', 'blocks.7.mlp.fc1.bias', 'blocks.7.mlp.fc2.weight', 'blocks.7.mlp.fc2.bias', 'blocks.8.norm1.weight', 'blocks.8.norm1.bias', 'blocks.8.attn.q_bias', 'blocks.8.attn.v_bias', 'blocks.8.attn.qkv.weight', 'blocks.8.attn.proj.weight', 'blocks.8.attn.proj.bias', 'blocks.8.norm2.weight', 'blocks.8.norm2.bias', 'blocks.8.mlp.fc1.weight', 'blocks.8.mlp.fc1.bias', 'blocks.8.mlp.fc2.weight', 'blocks.8.mlp.fc2.bias', 'blocks.9.norm1.weight', 'blocks.9.norm1.bias', 'blocks.9.attn.q_bias', 'blocks.9.attn.v_bias', 'blocks.9.attn.qkv.weight', 'blocks.9.attn.proj.weight', 'blocks.9.attn.proj.bias', 'blocks.9.norm2.weight', 'blocks.9.norm2.bias', 'blocks.9.mlp.fc1.weight', 'blocks.9.mlp.fc1.bias', 'blocks.9.mlp.fc2.weight', 'blocks.9.mlp.fc2.bias', 'blocks.10.norm1.weight', 'blocks.10.norm1.bias', 'blocks.10.attn.q_bias', 'blocks.10.attn.v_bias', 'blocks.10.attn.qkv.weight', 'blocks.10.attn.proj.weight', 'blocks.10.attn.proj.bias', 'blocks.10.norm2.weight', 'blocks.10.norm2.bias', 'blocks.10.mlp.fc1.weight', 'blocks.10.mlp.fc1.bias', 'blocks.10.mlp.fc2.weight', 'blocks.10.mlp.fc2.bias', 'blocks.11.norm1.weight', 'blocks.11.norm1.bias', 'blocks.11.attn.q_bias', 'blocks.11.attn.v_bias', 'blocks.11.attn.qkv.weight', 'blocks.11.attn.proj.weight', 'blocks.11.attn.proj.bias', 'blocks.11.norm2.weight', 'blocks.11.norm2.bias', 'blocks.11.mlp.fc1.weight', 'blocks.11.mlp.fc1.bias', 'blocks.11.mlp.fc2.weight', 'blocks.11.mlp.fc2.bias', 'norm.weight', 'norm.bias'])\n"
     ]
    }
   ],
   "source": [
    "new_b = dict()\n",
    "for k, v in b.items():\n",
    "    if k.startswith('encoder.'):\n",
    "        new_k = k.replace('encoder.', '')\n",
    "        new_b.update({new_k: v})\n",
    "print(new_b.keys())"
   ]
  },
  {
   "cell_type": "code",
   "execution_count": 66,
   "metadata": {},
   "outputs": [
    {
     "data": {
      "text/plain": [
       "odict_keys(['patch_embed.projection.weight', 'patch_embed.projection.bias', 'layers.0.ln1.weight', 'layers.0.ln1.bias', 'layers.0.attn.q_bias', 'layers.0.attn.v_bias', 'layers.0.attn.attn.in_proj_weight', 'layers.0.attn.attn.out_proj.weight', 'layers.0.attn.attn.out_proj.bias', 'layers.0.ln2.weight', 'layers.0.ln2.bias', 'layers.0.ffn.layers.0.0.weight', 'layers.0.ffn.layers.0.0.bias', 'layers.0.ffn.layers.1.weight', 'layers.0.ffn.layers.1.bias', 'layers.1.ln1.weight', 'layers.1.ln1.bias', 'layers.1.attn.q_bias', 'layers.1.attn.v_bias', 'layers.1.attn.attn.in_proj_weight', 'layers.1.attn.attn.out_proj.weight', 'layers.1.attn.attn.out_proj.bias', 'layers.1.ln2.weight', 'layers.1.ln2.bias', 'layers.1.ffn.layers.0.0.weight', 'layers.1.ffn.layers.0.0.bias', 'layers.1.ffn.layers.1.weight', 'layers.1.ffn.layers.1.bias', 'layers.2.ln1.weight', 'layers.2.ln1.bias', 'layers.2.attn.q_bias', 'layers.2.attn.v_bias', 'layers.2.attn.attn.in_proj_weight', 'layers.2.attn.attn.out_proj.weight', 'layers.2.attn.attn.out_proj.bias', 'layers.2.ln2.weight', 'layers.2.ln2.bias', 'layers.2.ffn.layers.0.0.weight', 'layers.2.ffn.layers.0.0.bias', 'layers.2.ffn.layers.1.weight', 'layers.2.ffn.layers.1.bias', 'layers.3.ln1.weight', 'layers.3.ln1.bias', 'layers.3.attn.q_bias', 'layers.3.attn.v_bias', 'layers.3.attn.attn.in_proj_weight', 'layers.3.attn.attn.out_proj.weight', 'layers.3.attn.attn.out_proj.bias', 'layers.3.ln2.weight', 'layers.3.ln2.bias', 'layers.3.ffn.layers.0.0.weight', 'layers.3.ffn.layers.0.0.bias', 'layers.3.ffn.layers.1.weight', 'layers.3.ffn.layers.1.bias', 'layers.4.ln1.weight', 'layers.4.ln1.bias', 'layers.4.attn.q_bias', 'layers.4.attn.v_bias', 'layers.4.attn.attn.in_proj_weight', 'layers.4.attn.attn.out_proj.weight', 'layers.4.attn.attn.out_proj.bias', 'layers.4.ln2.weight', 'layers.4.ln2.bias', 'layers.4.ffn.layers.0.0.weight', 'layers.4.ffn.layers.0.0.bias', 'layers.4.ffn.layers.1.weight', 'layers.4.ffn.layers.1.bias', 'layers.5.ln1.weight', 'layers.5.ln1.bias', 'layers.5.attn.q_bias', 'layers.5.attn.v_bias', 'layers.5.attn.attn.in_proj_weight', 'layers.5.attn.attn.out_proj.weight', 'layers.5.attn.attn.out_proj.bias', 'layers.5.ln2.weight', 'layers.5.ln2.bias', 'layers.5.ffn.layers.0.0.weight', 'layers.5.ffn.layers.0.0.bias', 'layers.5.ffn.layers.1.weight', 'layers.5.ffn.layers.1.bias', 'layers.6.ln1.weight', 'layers.6.ln1.bias', 'layers.6.attn.q_bias', 'layers.6.attn.v_bias', 'layers.6.attn.attn.in_proj_weight', 'layers.6.attn.attn.out_proj.weight', 'layers.6.attn.attn.out_proj.bias', 'layers.6.ln2.weight', 'layers.6.ln2.bias', 'layers.6.ffn.layers.0.0.weight', 'layers.6.ffn.layers.0.0.bias', 'layers.6.ffn.layers.1.weight', 'layers.6.ffn.layers.1.bias', 'layers.7.ln1.weight', 'layers.7.ln1.bias', 'layers.7.attn.q_bias', 'layers.7.attn.v_bias', 'layers.7.attn.attn.in_proj_weight', 'layers.7.attn.attn.out_proj.weight', 'layers.7.attn.attn.out_proj.bias', 'layers.7.ln2.weight', 'layers.7.ln2.bias', 'layers.7.ffn.layers.0.0.weight', 'layers.7.ffn.layers.0.0.bias', 'layers.7.ffn.layers.1.weight', 'layers.7.ffn.layers.1.bias', 'layers.8.ln1.weight', 'layers.8.ln1.bias', 'layers.8.attn.q_bias', 'layers.8.attn.v_bias', 'layers.8.attn.attn.in_proj_weight', 'layers.8.attn.attn.out_proj.weight', 'layers.8.attn.attn.out_proj.bias', 'layers.8.ln2.weight', 'layers.8.ln2.bias', 'layers.8.ffn.layers.0.0.weight', 'layers.8.ffn.layers.0.0.bias', 'layers.8.ffn.layers.1.weight', 'layers.8.ffn.layers.1.bias', 'layers.9.ln1.weight', 'layers.9.ln1.bias', 'layers.9.attn.q_bias', 'layers.9.attn.v_bias', 'layers.9.attn.attn.in_proj_weight', 'layers.9.attn.attn.out_proj.weight', 'layers.9.attn.attn.out_proj.bias', 'layers.9.ln2.weight', 'layers.9.ln2.bias', 'layers.9.ffn.layers.0.0.weight', 'layers.9.ffn.layers.0.0.bias', 'layers.9.ffn.layers.1.weight', 'layers.9.ffn.layers.1.bias', 'layers.10.ln1.weight', 'layers.10.ln1.bias', 'layers.10.attn.q_bias', 'layers.10.attn.v_bias', 'layers.10.attn.attn.in_proj_weight', 'layers.10.attn.attn.out_proj.weight', 'layers.10.attn.attn.out_proj.bias', 'layers.10.ln2.weight', 'layers.10.ln2.bias', 'layers.10.ffn.layers.0.0.weight', 'layers.10.ffn.layers.0.0.bias', 'layers.10.ffn.layers.1.weight', 'layers.10.ffn.layers.1.bias', 'layers.11.ln1.weight', 'layers.11.ln1.bias', 'layers.11.attn.q_bias', 'layers.11.attn.v_bias', 'layers.11.attn.attn.in_proj_weight', 'layers.11.attn.attn.out_proj.weight', 'layers.11.attn.attn.out_proj.bias', 'layers.11.ln2.weight', 'layers.11.ln2.bias', 'layers.11.ffn.layers.0.0.weight', 'layers.11.ffn.layers.0.0.bias', 'layers.11.ffn.layers.1.weight', 'layers.11.ffn.layers.1.bias', 'ln1.weight', 'ln1.bias'])"
      ]
     },
     "execution_count": 66,
     "metadata": {},
     "output_type": "execute_result"
    }
   ],
   "source": [
    "c = convert_vit(new_b)\n",
    "c.keys()"
   ]
  },
  {
   "cell_type": "code",
   "execution_count": 67,
   "metadata": {},
   "outputs": [
    {
     "name": "stdout",
     "output_type": "stream",
     "text": [
      "a find c\n",
      "cls_token\n",
      "layers.0.attn.attn.in_proj_bias\n",
      "layers.1.attn.attn.in_proj_bias\n",
      "layers.10.attn.attn.in_proj_bias\n",
      "layers.11.attn.attn.in_proj_bias\n",
      "layers.2.attn.attn.in_proj_bias\n",
      "layers.3.attn.attn.in_proj_bias\n",
      "layers.4.attn.attn.in_proj_bias\n",
      "layers.5.attn.attn.in_proj_bias\n",
      "layers.6.attn.attn.in_proj_bias\n",
      "layers.7.attn.attn.in_proj_bias\n",
      "layers.8.attn.attn.in_proj_bias\n",
      "layers.9.attn.attn.in_proj_bias\n",
      "pos_embed\n",
      "\n",
      "c find a\n",
      "layers.0.attn.q_bias\n",
      "layers.0.attn.v_bias\n",
      "layers.1.attn.q_bias\n",
      "layers.1.attn.v_bias\n",
      "layers.2.attn.q_bias\n",
      "layers.2.attn.v_bias\n",
      "layers.3.attn.q_bias\n",
      "layers.3.attn.v_bias\n",
      "layers.4.attn.q_bias\n",
      "layers.4.attn.v_bias\n",
      "layers.5.attn.q_bias\n",
      "layers.5.attn.v_bias\n",
      "layers.6.attn.q_bias\n",
      "layers.6.attn.v_bias\n",
      "layers.7.attn.q_bias\n",
      "layers.7.attn.v_bias\n",
      "layers.8.attn.q_bias\n",
      "layers.8.attn.v_bias\n",
      "layers.9.attn.q_bias\n",
      "layers.9.attn.v_bias\n",
      "layers.10.attn.q_bias\n",
      "layers.10.attn.v_bias\n",
      "layers.11.attn.q_bias\n",
      "layers.11.attn.v_bias\n"
     ]
    }
   ],
   "source": [
    "print('a find c')\n",
    "for a_key in a.keys():\n",
    "    if a_key not in c:\n",
    "        print(a_key)\n",
    "\n",
    "print('\\nc find a')\n",
    "for c_key in c.keys():\n",
    "    if c_key not in a:\n",
    "        print(c_key)"
   ]
  },
  {
   "cell_type": "code",
   "execution_count": 69,
   "metadata": {},
   "outputs": [
    {
     "name": "stdout",
     "output_type": "stream",
     "text": [
      "torch.Size([2304])\n",
      "\n",
      "torch.Size([768])\n",
      "torch.Size([768])\n",
      "torch.Size([1536])\n"
     ]
    }
   ],
   "source": [
    "print(a['layers.0.attn.attn.in_proj_bias'].shape)\n",
    "print()\n",
    "print(c['layers.0.attn.q_bias'].shape)\n",
    "print(c['layers.0.attn.v_bias'].shape)\n",
    "print(torch.cat((c['layers.0.attn.v_bias'], c['layers.0.attn.q_bias'])).shape)"
   ]
  },
  {
   "cell_type": "code",
   "execution_count": null,
   "metadata": {},
   "outputs": [],
   "source": []
  }
 ],
 "metadata": {
  "interpreter": {
   "hash": "bdf8307b29b89eff999faf6b0f79cf9c017f3dc27242fd013056260cfe8898bc"
  },
  "kernelspec": {
   "display_name": "Python 3.7.11 64-bit ('sn6': conda)",
   "name": "python3"
  },
  "language_info": {
   "codemirror_mode": {
    "name": "ipython",
    "version": 3
   },
   "file_extension": ".py",
   "mimetype": "text/x-python",
   "name": "python",
   "nbconvert_exporter": "python",
   "pygments_lexer": "ipython3",
   "version": "3.7.11"
  },
  "orig_nbformat": 4
 },
 "nbformat": 4,
 "nbformat_minor": 2
}
